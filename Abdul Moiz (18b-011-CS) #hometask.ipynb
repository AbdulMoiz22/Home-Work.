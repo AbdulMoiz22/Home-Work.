{
 "cells": [
  {
   "cell_type": "markdown",
   "metadata": {},
   "source": [
    "# PROGRAMMING EXERCISES"
   ]
  },
  {
   "cell_type": "code",
   "execution_count": 4,
   "metadata": {},
   "outputs": [
    {
     "name": "stdout",
     "output_type": "stream",
     "text": [
      "9\n"
     ]
    }
   ],
   "source": [
    "# 1)Write a program for calculating number of days between two dates.\n",
    "\n",
    "\n",
    "from datetime import date\n",
    "first_date= date(2018,10,12)\n",
    "last_date= date(2018,10,21)\n",
    "difference= (last_date )- (first_date)\n",
    "print(difference.days)"
   ]
  },
  {
   "cell_type": "markdown",
   "metadata": {},
   "source": [
    "2) A ladder put up right against a wall will fall over unless put up at a certain angle less than\n",
    "90 degrees. Given variables length and angle storing the length of the ladder and the angle\n",
    "that it forms with the ground as it leans against the wall, write a Python expression\n",
    "involving length and angle that computes the height reached by the ladder. Evaluate the\n",
    "expression for these values of length and angle:\n",
    "(a)16 feet and 75 degrees\n",
    "(b)20 feet and 0 degrees\n",
    "(c)24 feet and 45 degrees\n",
    "(d)24 feet and 80 degrees"
   ]
  },
  {
   "cell_type": "code",
   "execution_count": 8,
   "metadata": {},
   "outputs": [
    {
     "name": "stdout",
     "output_type": "stream",
     "text": [
      "15.454813220625093\n"
     ]
    }
   ],
   "source": [
    "#(a)\n",
    "from math import sin\n",
    "from math import pi\n",
    "radian= pi*75/180\n",
    "height= 16*sin(radian)\n",
    "print (height)"
   ]
  },
  {
   "cell_type": "code",
   "execution_count": 11,
   "metadata": {},
   "outputs": [
    {
     "name": "stdout",
     "output_type": "stream",
     "text": [
      "0.0\n"
     ]
    }
   ],
   "source": [
    "#(b)\n",
    "from math import sin\n",
    "from math import pi\n",
    "radian= pi*0/180\n",
    "height= 20*sin(radian)\n",
    "print (height)"
   ]
  },
  {
   "cell_type": "code",
   "execution_count": 12,
   "metadata": {},
   "outputs": [
    {
     "name": "stdout",
     "output_type": "stream",
     "text": [
      "16.970562748477143\n"
     ]
    }
   ],
   "source": [
    "#(c)\n",
    "from math import sin\n",
    "from math import pi\n",
    "radian= pi*45/180\n",
    "height= 24*sin(radian)\n",
    "print (height)"
   ]
  },
  {
   "cell_type": "code",
   "execution_count": 13,
   "metadata": {},
   "outputs": [
    {
     "name": "stdout",
     "output_type": "stream",
     "text": [
      "23.63538607229299\n"
     ]
    }
   ],
   "source": [
    "#d\n",
    "from math import sin\n",
    "from math import pi\n",
    "radian= pi*80/180\n",
    "height= 24*sin(radian)\n",
    "print (height)"
   ]
  },
  {
   "cell_type": "markdown",
   "metadata": {},
   "source": [
    "3)Write the relevant Python expression or statement, involving a list of numbers lst and using\n",
    "list operators and methods for these specifications:\n",
    "(a)An expression that evaluates to the index of the middle element of lst\n",
    "(b)An expression that evaluates to the middle element of lst\n",
    "(c)A statement that sorts the list lst in descending order\n",
    "(d)A statement that removes the first number of list lst and puts it at the end"
   ]
  },
  {
   "cell_type": "code",
   "execution_count": 30,
   "metadata": {},
   "outputs": [
    {
     "name": "stdout",
     "output_type": "stream",
     "text": [
      "2.0\n"
     ]
    }
   ],
   "source": [
    "#a\n",
    "lst=[1,2,3,4]\n",
    "print(len(lst) / 2)\n",
    "\n"
   ]
  },
  {
   "cell_type": "code",
   "execution_count": 36,
   "metadata": {},
   "outputs": [
    {
     "name": "stdout",
     "output_type": "stream",
     "text": [
      "3\n"
     ]
    }
   ],
   "source": [
    "#b\n",
    "print(lst[int(len(lst) / 2)])"
   ]
  },
  {
   "cell_type": "code",
   "execution_count": 39,
   "metadata": {},
   "outputs": [
    {
     "name": "stdout",
     "output_type": "stream",
     "text": [
      "[4, 3, 2, 1]\n"
     ]
    }
   ],
   "source": [
    "#c\n",
    "print(sorted(lst, reverse = True))"
   ]
  },
  {
   "cell_type": "code",
   "execution_count": 50,
   "metadata": {},
   "outputs": [
    {
     "name": "stdout",
     "output_type": "stream",
     "text": [
      "[2, 3, 4, 1]\n"
     ]
    }
   ],
   "source": [
    "#d\n",
    "lst=[1,2,3,4]\n",
    "lst.append(lst.pop(0))\n",
    "print(lst)"
   ]
  },
  {
   "cell_type": "markdown",
   "metadata": {},
   "source": [
    "4. Start by assigning to variables monthsL and monthsT a list and a tuple, respectively,\n",
    "both containing strings 'Jan', 'Feb', 'Mar', and 'May', in that order. Then attempt the following\n",
    "with both containers:\n",
    "(a)Insert string 'Apr' between 'Mar' and 'May'.\n",
    "(b)Append string 'Jun'.\n",
    "(c)Pop the container.\n",
    "(d)Remove the second item in the container.\n",
    "(e)Reverse the order of items in the container.\n",
    "(f)Sort the container."
   ]
  },
  {
   "cell_type": "code",
   "execution_count": 51,
   "metadata": {},
   "outputs": [],
   "source": [
    "monthsL=['Jan','Feb','March','May']\n",
    "monthsT=['Jan','Feb','March','May']"
   ]
  },
  {
   "cell_type": "code",
   "execution_count": 2,
   "metadata": {},
   "outputs": [
    {
     "name": "stdout",
     "output_type": "stream",
     "text": [
      "['Jan', 'Feb', 'March', 'April', 'May']\n"
     ]
    }
   ],
   "source": [
    "#a \n",
    "monthsL=['Jan','Feb','March','May']\n",
    "monthsL.insert(3,'April')\n",
    "print(monthsL)"
   ]
  },
  {
   "cell_type": "code",
   "execution_count": 5,
   "metadata": {},
   "outputs": [
    {
     "name": "stdout",
     "output_type": "stream",
     "text": [
      "['Jan', 'Feb', 'March', 'May', 'Jun']\n"
     ]
    }
   ],
   "source": [
    "#b\n",
    "monthsL=['Jan','Feb','March','May']\n",
    "monthsL.append('Jun')\n",
    "print(monthsL)"
   ]
  },
  {
   "cell_type": "code",
   "execution_count": 6,
   "metadata": {},
   "outputs": [
    {
     "name": "stdout",
     "output_type": "stream",
     "text": [
      "['Jan', 'Feb', 'March']\n"
     ]
    }
   ],
   "source": [
    "#c\n",
    "monthsL=['Jan','Feb','March','May']\n",
    "monthsL.pop()\n",
    "print(monthsL)"
   ]
  },
  {
   "cell_type": "code",
   "execution_count": 9,
   "metadata": {},
   "outputs": [
    {
     "name": "stdout",
     "output_type": "stream",
     "text": [
      "['Jan', 'March', 'May']\n"
     ]
    }
   ],
   "source": [
    "#d\n",
    "monthsL=['Jan','Feb','March','May']\n",
    "monthsL.remove('Feb')\n",
    "print(monthsL)"
   ]
  },
  {
   "cell_type": "code",
   "execution_count": 10,
   "metadata": {},
   "outputs": [
    {
     "name": "stdout",
     "output_type": "stream",
     "text": [
      "['May', 'March', 'Jan', 'Feb']\n"
     ]
    }
   ],
   "source": [
    "#e\n",
    "monthsL=['Jan','Feb','March','May']\n",
    "monthsL.sort(reverse=True)\n",
    "print(monthsL)"
   ]
  },
  {
   "cell_type": "code",
   "execution_count": 11,
   "metadata": {},
   "outputs": [
    {
     "name": "stdout",
     "output_type": "stream",
     "text": [
      "['Feb', 'Jan', 'March', 'May']\n"
     ]
    }
   ],
   "source": [
    "#f\n",
    "monthsL=['Jan','Feb','March','May']\n",
    "monthsL.sort()\n",
    "print(monthsL)"
   ]
  },
  {
   "cell_type": "markdown",
   "metadata": {},
   "source": [
    "5. Write the corresponding Python assignment statements:\n",
    "(a)Assign 6 to variable a and 7 to variable b.\n",
    "(b)Assign to variable c the average of variables a and b.\n",
    "(c)Assign to variable inventory the list containing strings 'paper', 'staples', and 'pencils'.\n",
    "(d)Assign to variables first, middle and last the strings 'John', 'Fitzgerald', and 'Kennedy'.\n",
    "(e)Assign to variable fullname the concatenation of string variables first, middle, and last"
   ]
  },
  {
   "cell_type": "code",
   "execution_count": 16,
   "metadata": {},
   "outputs": [
    {
     "name": "stdout",
     "output_type": "stream",
     "text": [
      "6\n",
      "7\n"
     ]
    }
   ],
   "source": [
    "#a\n",
    "a=6\n",
    "b=7\n",
    "print(a)\n",
    "print(b)"
   ]
  },
  {
   "cell_type": "code",
   "execution_count": 14,
   "metadata": {},
   "outputs": [
    {
     "name": "stdout",
     "output_type": "stream",
     "text": [
      "9.5\n"
     ]
    }
   ],
   "source": [
    "#b\n",
    "c= a+b/2\n",
    "print(c)"
   ]
  },
  {
   "cell_type": "code",
   "execution_count": 17,
   "metadata": {},
   "outputs": [
    {
     "name": "stdout",
     "output_type": "stream",
     "text": [
      "['paper', 'staples', 'pencils']\n"
     ]
    }
   ],
   "source": [
    "inventory=['paper','staples','pencils']\n",
    "print(inventory)"
   ]
  },
  {
   "cell_type": "code",
   "execution_count": 10,
   "metadata": {},
   "outputs": [
    {
     "name": "stdout",
     "output_type": "stream",
     "text": [
      "Full Name= John  Fitzgerald  Kennedy \n"
     ]
    }
   ],
   "source": [
    "first = ' John '\n",
    "middle = ' Fitzgerald '\n",
    "last = ' Kennedy '\n",
    "fullname=('Full Name' + '=' + first +  middle  + last)\n",
    "print(fullname)"
   ]
  },
  {
   "cell_type": "markdown",
   "metadata": {},
   "source": [
    "6) Write Python expressions corresponding to these statements:\n",
    "(a)The number of characters in the word \"anachronistically\" is 1 more than the number of characters in the word \"counterintuitive.\"\n",
    "(b)The word \"misinterpretation\" appears earlier in the dictionary than the word \"misrepresentation.\"\n",
    "(c)The letter \"e\" does not appear in the word \"floccinaucinihilipilification.\"\n",
    "(d)The number of characters in the word \"counterrevolution\" is equal to the sum of the\n",
    "number of characters in words \"counter\" and \"resolution.\""
   ]
  },
  {
   "cell_type": "code",
   "execution_count": 13,
   "metadata": {},
   "outputs": [
    {
     "name": "stdout",
     "output_type": "stream",
     "text": [
      "1\n"
     ]
    }
   ],
   "source": [
    "#a\n",
    "word1=(\"anachronistically\")\n",
    "word2=(\"counterintuitive\")\n",
    "diff= len(word1)-len(word2)\n",
    "print(diff)"
   ]
  },
  {
   "cell_type": "code",
   "execution_count": 15,
   "metadata": {},
   "outputs": [
    {
     "data": {
      "text/plain": [
       "['misinterpretation', 'misrepresentation']"
      ]
     },
     "execution_count": 15,
     "metadata": {},
     "output_type": "execute_result"
    }
   ],
   "source": [
    "#b\n",
    "word_1= [\"misinterpretation\",\"misrepresentation\"]\n",
    "word_1.sort()\n",
    "word_1"
   ]
  },
  {
   "cell_type": "code",
   "execution_count": 17,
   "metadata": {},
   "outputs": [
    {
     "data": {
      "text/plain": [
       "False"
      ]
     },
     "execution_count": 17,
     "metadata": {},
     "output_type": "execute_result"
    }
   ],
   "source": [
    "#c \n",
    "word_0=[\"floccinaucinihilipilification.\"]\n",
    "'e' in (word_0)\n"
   ]
  },
  {
   "cell_type": "code",
   "execution_count": 18,
   "metadata": {},
   "outputs": [
    {
     "name": "stdout",
     "output_type": "stream",
     "text": [
      "17\n",
      "17\n"
     ]
    }
   ],
   "source": [
    "#d\n",
    "word1=\"counterrevolution\"\n",
    "print(len(word1))\n",
    "word2=\"counter\"\n",
    "word3=\"resolution\"\n",
    "print(len(word2)+len(word3))"
   ]
  },
  {
   "cell_type": "markdown",
   "metadata": {},
   "source": [
    "Question:7"
   ]
  },
  {
   "cell_type": "code",
   "execution_count": 20,
   "metadata": {},
   "outputs": [
    {
     "name": "stdout",
     "output_type": "stream",
     "text": [
      "enter value for x co=ordinate6\n",
      "enter value for y co-ordinate7\n",
      "9.219544457292887\n",
      "hit\n"
     ]
    }
   ],
   "source": [
    "x=int(input(\"enter value for x co=ordinate\"))\n",
    "y=int(input(\"enter value for y co-ordinate\"))\n",
    "radius=10\n",
    "import math\n",
    "dist = math.sqrt(x*x + y*y)\n",
    "print(dist)\n",
    "if dist<radius:\n",
    "    print(\"hit\")\n",
    "else:\n",
    "        print(\"miss\")"
   ]
  },
  {
   "cell_type": "code",
   "execution_count": 21,
   "metadata": {},
   "outputs": [
    {
     "name": "stdout",
     "output_type": "stream",
     "text": [
      "enter value for x co=ordinate8\n",
      "enter value for y co-ordinate9\n",
      "12.041594578792296\n",
      "miss\n"
     ]
    }
   ],
   "source": [
    "x=int(input(\"enter value for x co=ordinate\"))\n",
    "y=int(input(\"enter value for y co-ordinate\"))\n",
    "radius=10\n",
    "import math\n",
    "dist = math.sqrt(x*x + y*y)\n",
    "print(dist)\n",
    "if dist<radius:\n",
    "    print(\"hit\")\n",
    "else:\n",
    "        print(\"miss\")"
   ]
  },
  {
   "cell_type": "code",
   "execution_count": null,
   "metadata": {},
   "outputs": [],
   "source": []
  }
 ],
 "metadata": {
  "kernelspec": {
   "display_name": "Python 3",
   "language": "python",
   "name": "python3"
  },
  "language_info": {
   "codemirror_mode": {
    "name": "ipython",
    "version": 3
   },
   "file_extension": ".py",
   "mimetype": "text/x-python",
   "name": "python",
   "nbconvert_exporter": "python",
   "pygments_lexer": "ipython3",
   "version": "3.7.0"
  }
 },
 "nbformat": 4,
 "nbformat_minor": 2
}
